{
 "cells": [
  {
   "cell_type": "code",
   "execution_count": null,
   "id": "5bf7dd30",
   "metadata": {},
   "outputs": [],
   "source": [
    "#Question 1:\n",
    "\n",
    "def divisibility():\n",
    "    for i in range(2000,3201):\n",
    "        if i%7 == 0 and i%5 != 0:\n",
    "            print(i)\n",
    "divisibility()"
   ]
  },
  {
   "cell_type": "code",
   "execution_count": null,
   "id": "038ea697",
   "metadata": {},
   "outputs": [],
   "source": [
    "#Question 2:\n",
    "\n",
    "def factorial():\n",
    "    n=int(input(\"pick a number:\"))\n",
    "    fact=1\n",
    "    for i in range(1,n+1):\n",
    "        fact=fact*i\n",
    "    return fact\n",
    "factorial()"
   ]
  },
  {
   "cell_type": "code",
   "execution_count": 15,
   "id": "2a059113",
   "metadata": {},
   "outputs": [],
   "source": [
    " #Question 3:\n",
    "\n",
    "def dictionary(n):\n",
    "    for i in range(1,n+1):\n",
    "        MyDict={\"i\":\"j\"}\n",
    "        MyDict['i']=i\n",
    "        MyDict['j']=i**2\n",
    "        print(MyDict.values())\n",
    "dictionary(8)"
   ]
  },
  {
   "cell_type": "code",
   "execution_count": 28,
   "id": "68d6e81f",
   "metadata": {},
   "outputs": [
    {
     "name": "stdout",
     "output_type": "stream",
     "text": [
      "prase\n"
     ]
    }
   ],
   "source": [
    "#Question 4:\n",
    "\n",
    "def missing_word(word,n):\n",
    "    print(word.replace(word[n],\"\"))\n",
    "missing_word('phrase',1)\n",
    "    "
   ]
  },
  {
   "cell_type": "code",
   "execution_count": 1,
   "id": "3fdda64a",
   "metadata": {},
   "outputs": [],
   "source": [
    "#Question 5:\n",
    "\n",
    "import numpy as np\n",
    "\n",
    "def convert_to_list():\n",
    "    arr=np.array([[0,1],[2,3],[4,5]])\n",
    "    list=arr.tolist()\n",
    "    print(arr,\":\",list)\n",
    "convert_to_list()"
   ]
  },
  {
   "cell_type": "code",
   "execution_count": 4,
   "id": "85796647",
   "metadata": {},
   "outputs": [],
   "source": [
    "#Question 6:\n",
    "\n",
    "import numpy as np\n",
    "\n",
    "def covariance_matrix():\n",
    "    arr1 = np.array([1, 0, 2])\n",
    "    arr2 = np.array([2, 1, 0])\n",
    "    print(np.cov(arr1, arr2))\n",
    "covariance_matrix()"
   ]
  },
  {
   "cell_type": "code",
   "execution_count": 12,
   "id": "2a60dc3f",
   "metadata": {},
   "outputs": [],
   "source": [
    "#Question 7:\n",
    "import math\n",
    "\n",
    "def calculate():\n",
    "    D1=int(input(\"pick first number:\"))\n",
    "    D2=int(input(\"pick second number:\"))\n",
    "    D3=int(input(\"pick third number:\"))\n",
    "    C= 50\n",
    "    H= 30\n",
    "    Q1= math.sqrt((2 * 50 * D1)/30)\n",
    "    Q2= math.sqrt((2 * 50 * D2)/30)\n",
    "    Q3= math.sqrt((2 * 50 * D3)/30)\n",
    "    print(int(Q1),\",\",int(Q2),\",\",int(Q3))\n",
    "calculate()"
   ]
  },
  {
   "cell_type": "code",
   "execution_count": null,
   "id": "9d98891a",
   "metadata": {},
   "outputs": [],
   "source": []
  }
 ],
 "metadata": {
  "kernelspec": {
   "display_name": "Python 3",
   "language": "python",
   "name": "python3"
  },
  "language_info": {
   "codemirror_mode": {
    "name": "ipython",
    "version": 3
   },
   "file_extension": ".py",
   "mimetype": "text/x-python",
   "name": "python",
   "nbconvert_exporter": "python",
   "pygments_lexer": "ipython3",
   "version": "3.8.8"
  }
 },
 "nbformat": 4,
 "nbformat_minor": 5
}
